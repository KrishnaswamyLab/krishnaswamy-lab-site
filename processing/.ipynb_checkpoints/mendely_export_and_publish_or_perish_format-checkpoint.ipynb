{
 "cells": [
  {
   "cell_type": "code",
   "execution_count": 1,
   "id": "1cda8691",
   "metadata": {},
   "outputs": [],
   "source": [
    "import os, sys, json, numpy as np, pandas as pd, json\n",
    "import xml.etree.ElementTree as ET"
   ]
  },
  {
   "cell_type": "code",
   "execution_count": 2,
   "id": "87065abe",
   "metadata": {},
   "outputs": [],
   "source": [
    "tree = ET.parse('export.xml')"
   ]
  },
  {
   "cell_type": "code",
   "execution_count": 3,
   "id": "963582f2",
   "metadata": {},
   "outputs": [],
   "source": [
    "root = tree.getroot()"
   ]
  },
  {
   "cell_type": "code",
   "execution_count": 4,
   "id": "2af29b6f",
   "metadata": {
    "code_folding": [
     1
    ]
   },
   "outputs": [],
   "source": [
    "results = []\n",
    "for record in root.findall('./records/record'):\n",
    "    \n",
    "    ref_type = record.find('ref-type')\n",
    "    ref = ref_type.get('name')\n",
    "    \n",
    "    authors = record.findall('contributors/*/author')    \n",
    "    authors = [a.text.strip().split(', ')[::-1] for a in authors]\n",
    "    for i, author in enumerate(authors):\n",
    "        first, last = author        \n",
    "        authors[i] = [*first.split(' '), last]\n",
    "        \n",
    "    authors = [{\"name\": a} for a in authors]\n",
    "    \n",
    "    \n",
    "    title = record.find('*/title').text\n",
    "    \n",
    "    year = record.find('*/year')\n",
    "    if year is not None:\n",
    "        year = year.text\n",
    "    \n",
    "    month = record.find('*/pub-dates/date')\n",
    "    if month is not None:\n",
    "        month = month.text\n",
    "        \n",
    "    pages = record.find('pages')\n",
    "    if pages is not None:\n",
    "        pages = pages.text\n",
    "        \n",
    "    abstract = record.find('abstract')\n",
    "    if abstract is not None:\n",
    "        abstract = abstract.text\n",
    "    \n",
    "    publisher = record.find('publisher')\n",
    "    if publisher is not None:\n",
    "        publisher = publisher.text\n",
    "    \n",
    "    periodical = record.find('periodical/full-title')\n",
    "    if periodical is not None:\n",
    "        periodical = periodical.text\n",
    "    \n",
    "    keywords = [\n",
    "        kw.text \n",
    "        for kw in record.findall('keywords/keyword') \n",
    "        if kw is not None\n",
    "    ]\n",
    "    \n",
    "    urls = [\n",
    "        url.text \n",
    "        for url in record.findall('urls/*/url')\n",
    "        if url is not None\n",
    "    ]\n",
    "    urls = [{\"href\": url} for url in urls]\n",
    "    \n",
    "    volume = record.find('volumes')\n",
    "    if volume is not None:\n",
    "        volume = volume.text\n",
    "    \n",
    "    issue = record.find('issue')\n",
    "    if issue is not None:\n",
    "        issue = issue.text\n",
    "    \n",
    "    \n",
    "    data = {\n",
    "        \"title\": title,\n",
    "        \"type\": ref,\n",
    "        \"authors\": authors,\n",
    "        \"year\": year,\n",
    "        \"month\": month,\n",
    "        \"pages\": pages,\n",
    "        \"abstract\": abstract,\n",
    "        \"publisher\": publisher,\n",
    "        \"periodical\": periodical,\n",
    "        \"keywords\": keywords,\n",
    "        \"urls\": urls,\n",
    "        \"volume\": volume,\n",
    "        \"issue\": issue\n",
    "    }\n",
    "    results.append(data)"
   ]
  },
  {
   "cell_type": "code",
   "execution_count": 5,
   "id": "27b57e34",
   "metadata": {},
   "outputs": [],
   "source": [
    "with open('pop_citations.json', 'r') as f:\n",
    "    citations = json.load(f)"
   ]
  },
  {
   "cell_type": "code",
   "execution_count": 6,
   "id": "96c366f7",
   "metadata": {},
   "outputs": [
    {
     "data": {
      "text/plain": [
       "(126, 176)"
      ]
     },
     "execution_count": 6,
     "metadata": {},
     "output_type": "execute_result"
    }
   ],
   "source": [
    "len(results), len(citations)"
   ]
  },
  {
   "cell_type": "code",
   "execution_count": 7,
   "id": "70690c3b",
   "metadata": {},
   "outputs": [],
   "source": [
    "found = []"
   ]
  },
  {
   "cell_type": "code",
   "execution_count": 8,
   "id": "f96396a1",
   "metadata": {},
   "outputs": [],
   "source": [
    "for citation in citations:\n",
    "    citation_title = citation['title']\n",
    "    \n",
    "    for article in results:\n",
    "        article_title = article['title']\n",
    "        \n",
    "        if article_title == citation_title:\n",
    "            found.append(citation)  \n",
    "            article[\"google_scholar_url\"] = citation[\"citation_url\"]\n",
    "            \n",
    "            if article[\"month\"] is None and \"month\" in citation:\n",
    "                article[\"month\"] = citation[\"month\"]\n",
    "                \n",
    "            if article[\"year\"] is None and \"year\" in citation:\n",
    "                article[\"year\"] = citation[\"year\"]\n",
    "                \n",
    "            if article[\"volume\"] is None and \"volume\" in citation:\n",
    "                article[\"volume\"] = citation[\"volume\"]\n",
    "                \n",
    "            if article[\"issue\"] is None and \"issue\" in citation:\n",
    "                article[\"issue\"] = citation[\"issue\"]\n",
    "                \n",
    "            article[\"journal_source\"] = citation[\"source\"]\n",
    "            \n",
    "            article[\"cites\"] = citation[\"cites\"]            "
   ]
  },
  {
   "cell_type": "code",
   "execution_count": 75,
   "id": "266f161f",
   "metadata": {},
   "outputs": [],
   "source": [
    "with open('../src/lib/data/citations.json', 'w') as f:\n",
    "    json.dump(results, f)"
   ]
  },
  {
   "cell_type": "code",
   "execution_count": null,
   "id": "5af60a73",
   "metadata": {},
   "outputs": [],
   "source": []
  },
  {
   "cell_type": "code",
   "execution_count": null,
   "id": "af9a9d49",
   "metadata": {},
   "outputs": [],
   "source": []
  },
  {
   "cell_type": "code",
   "execution_count": 16,
   "id": "47f9e449",
   "metadata": {},
   "outputs": [],
   "source": [
    "all_authors = set({})\n",
    "for result in results:\n",
    "    for author_data in result['authors']:\n",
    "        author_parts = author_data['name']\n",
    "        author = ' '.join(author_parts)\n",
    "        first = author_parts[0]\n",
    "        last = author_parts[-1]\n",
    "        fl_author = f'{first} {last}'\n",
    "        all_authors.add(author)"
   ]
  },
  {
   "cell_type": "code",
   "execution_count": 19,
   "id": "6b6008b5",
   "metadata": {},
   "outputs": [],
   "source": [
    "author_map = {\n",
    "    author: i\n",
    "    for i, author in enumerate(list(all_authors))\n",
    "}"
   ]
  },
  {
   "cell_type": "code",
   "execution_count": 21,
   "id": "60597f68",
   "metadata": {},
   "outputs": [],
   "source": [
    "edges = []\n",
    "\n",
    "for result in results:\n",
    "    for author_data_a in result['authors']:\n",
    "        author_parts_a = author_data_a['name']\n",
    "        author_a = ' '.join(author_parts_a)\n",
    "        \n",
    "        for author_data_b in result['authors']:\n",
    "            author_parts_b = author_data_b['name']\n",
    "            author_b = ' '.join(author_parts_b)\n",
    "            \n",
    "            if author_a == author_b:\n",
    "                continue\n",
    "                \n",
    "            edges.append(\n",
    "                (\n",
    "                    author_map[author_a],\n",
    "                    author_map[author_b],\n",
    "                    result['title']\n",
    "                )\n",
    "            )"
   ]
  },
  {
   "cell_type": "code",
   "execution_count": 25,
   "id": "362da7a5",
   "metadata": {},
   "outputs": [
    {
     "data": {
      "text/html": [
       "<div>\n",
       "<style scoped>\n",
       "    .dataframe tbody tr th:only-of-type {\n",
       "        vertical-align: middle;\n",
       "    }\n",
       "\n",
       "    .dataframe tbody tr th {\n",
       "        vertical-align: top;\n",
       "    }\n",
       "\n",
       "    .dataframe thead th {\n",
       "        text-align: right;\n",
       "    }\n",
       "</style>\n",
       "<table border=\"1\" class=\"dataframe\">\n",
       "  <thead>\n",
       "    <tr style=\"text-align: right;\">\n",
       "      <th></th>\n",
       "      <th>author_a</th>\n",
       "      <th>author_b</th>\n",
       "      <th>title</th>\n",
       "    </tr>\n",
       "  </thead>\n",
       "  <tbody>\n",
       "    <tr>\n",
       "      <th>0</th>\n",
       "      <td>79</td>\n",
       "      <td>27</td>\n",
       "      <td>Design for Robustness</td>\n",
       "    </tr>\n",
       "    <tr>\n",
       "      <th>1</th>\n",
       "      <td>79</td>\n",
       "      <td>626</td>\n",
       "      <td>Design for Robustness</td>\n",
       "    </tr>\n",
       "    <tr>\n",
       "      <th>2</th>\n",
       "      <td>27</td>\n",
       "      <td>79</td>\n",
       "      <td>Design for Robustness</td>\n",
       "    </tr>\n",
       "    <tr>\n",
       "      <th>3</th>\n",
       "      <td>27</td>\n",
       "      <td>626</td>\n",
       "      <td>Design for Robustness</td>\n",
       "    </tr>\n",
       "    <tr>\n",
       "      <th>4</th>\n",
       "      <td>626</td>\n",
       "      <td>79</td>\n",
       "      <td>Design for Robustness</td>\n",
       "    </tr>\n",
       "  </tbody>\n",
       "</table>\n",
       "</div>"
      ],
      "text/plain": [
       "   author_a  author_b                  title\n",
       "0        79        27  Design for Robustness\n",
       "1        79       626  Design for Robustness\n",
       "2        27        79  Design for Robustness\n",
       "3        27       626  Design for Robustness\n",
       "4       626        79  Design for Robustness"
      ]
     },
     "execution_count": 25,
     "metadata": {},
     "output_type": "execute_result"
    }
   ],
   "source": [
    "df = pd.DataFrame(edges, columns='author_a author_b title'.split())\n",
    "df.head()"
   ]
  },
  {
   "cell_type": "code",
   "execution_count": 34,
   "id": "5f790f7a",
   "metadata": {},
   "outputs": [],
   "source": [
    "groups = df.groupby(['author_a', 'author_b'])"
   ]
  },
  {
   "cell_type": "code",
   "execution_count": 67,
   "id": "fc5d5bbd",
   "metadata": {},
   "outputs": [
    {
     "data": {
      "text/html": [
       "<div>\n",
       "<style scoped>\n",
       "    .dataframe tbody tr th:only-of-type {\n",
       "        vertical-align: middle;\n",
       "    }\n",
       "\n",
       "    .dataframe tbody tr th {\n",
       "        vertical-align: top;\n",
       "    }\n",
       "\n",
       "    .dataframe thead th {\n",
       "        text-align: right;\n",
       "    }\n",
       "</style>\n",
       "<table border=\"1\" class=\"dataframe\">\n",
       "  <thead>\n",
       "    <tr style=\"text-align: right;\">\n",
       "      <th></th>\n",
       "      <th>author_a</th>\n",
       "      <th>author_b</th>\n",
       "      <th>title</th>\n",
       "    </tr>\n",
       "  </thead>\n",
       "  <tbody>\n",
       "    <tr>\n",
       "      <th>0</th>\n",
       "      <td>79</td>\n",
       "      <td>668</td>\n",
       "      <td>51</td>\n",
       "    </tr>\n",
       "    <tr>\n",
       "      <th>1</th>\n",
       "      <td>668</td>\n",
       "      <td>79</td>\n",
       "      <td>51</td>\n",
       "    </tr>\n",
       "    <tr>\n",
       "      <th>2</th>\n",
       "      <td>378</td>\n",
       "      <td>79</td>\n",
       "      <td>23</td>\n",
       "    </tr>\n",
       "    <tr>\n",
       "      <th>3</th>\n",
       "      <td>79</td>\n",
       "      <td>378</td>\n",
       "      <td>23</td>\n",
       "    </tr>\n",
       "    <tr>\n",
       "      <th>4</th>\n",
       "      <td>378</td>\n",
       "      <td>668</td>\n",
       "      <td>20</td>\n",
       "    </tr>\n",
       "  </tbody>\n",
       "</table>\n",
       "</div>"
      ],
      "text/plain": [
       "   author_a  author_b  title\n",
       "0        79       668     51\n",
       "1       668        79     51\n",
       "2       378        79     23\n",
       "3        79       378     23\n",
       "4       378       668     20"
      ]
     },
     "execution_count": 67,
     "metadata": {},
     "output_type": "execute_result"
    }
   ],
   "source": [
    "df_agg = df.groupby(['author_a', 'author_b'])\\\n",
    "    .count()\\\n",
    "    .sort_values('title', ascending=False)\\\n",
    "    .reset_index()\n",
    "df_agg.head()"
   ]
  },
  {
   "cell_type": "code",
   "execution_count": 68,
   "id": "775cfd78",
   "metadata": {},
   "outputs": [],
   "source": [
    "inverse_author_map = {\n",
    "    i: author\n",
    "    for author, i in author_map.items()\n",
    "}"
   ]
  },
  {
   "cell_type": "code",
   "execution_count": 69,
   "id": "8485ff32",
   "metadata": {},
   "outputs": [],
   "source": [
    "df_coo = df_agg.copy()\n",
    "df_coo.loc[:, 'author_a'] = df_agg.author_a.map(lambda e: inverse_author_map[e])\n",
    "df_coo.loc[:, 'author_b'] = df_agg.author_b.map(lambda e: inverse_author_map[e])"
   ]
  },
  {
   "cell_type": "code",
   "execution_count": 71,
   "id": "2a40ea20",
   "metadata": {},
   "outputs": [
    {
     "data": {
      "text/html": [
       "<div>\n",
       "<style scoped>\n",
       "    .dataframe tbody tr th:only-of-type {\n",
       "        vertical-align: middle;\n",
       "    }\n",
       "\n",
       "    .dataframe tbody tr th {\n",
       "        vertical-align: top;\n",
       "    }\n",
       "\n",
       "    .dataframe thead th {\n",
       "        text-align: right;\n",
       "    }\n",
       "</style>\n",
       "<table border=\"1\" class=\"dataframe\">\n",
       "  <thead>\n",
       "    <tr style=\"text-align: right;\">\n",
       "      <th></th>\n",
       "      <th>author_a</th>\n",
       "      <th>author_b</th>\n",
       "      <th>title</th>\n",
       "    </tr>\n",
       "  </thead>\n",
       "  <tbody>\n",
       "    <tr>\n",
       "      <th>0</th>\n",
       "      <td>Smita Krishnaswamy</td>\n",
       "      <td>Guy Wolf</td>\n",
       "      <td>51</td>\n",
       "    </tr>\n",
       "    <tr>\n",
       "      <th>1</th>\n",
       "      <td>Guy Wolf</td>\n",
       "      <td>Smita Krishnaswamy</td>\n",
       "      <td>51</td>\n",
       "    </tr>\n",
       "    <tr>\n",
       "      <th>2</th>\n",
       "      <td>Alexander Tong</td>\n",
       "      <td>Smita Krishnaswamy</td>\n",
       "      <td>23</td>\n",
       "    </tr>\n",
       "    <tr>\n",
       "      <th>3</th>\n",
       "      <td>Smita Krishnaswamy</td>\n",
       "      <td>Alexander Tong</td>\n",
       "      <td>23</td>\n",
       "    </tr>\n",
       "    <tr>\n",
       "      <th>4</th>\n",
       "      <td>Alexander Tong</td>\n",
       "      <td>Guy Wolf</td>\n",
       "      <td>20</td>\n",
       "    </tr>\n",
       "  </tbody>\n",
       "</table>\n",
       "</div>"
      ],
      "text/plain": [
       "             author_a            author_b  title\n",
       "0  Smita Krishnaswamy            Guy Wolf     51\n",
       "1            Guy Wolf  Smita Krishnaswamy     51\n",
       "2      Alexander Tong  Smita Krishnaswamy     23\n",
       "3  Smita Krishnaswamy      Alexander Tong     23\n",
       "4      Alexander Tong            Guy Wolf     20"
      ]
     },
     "execution_count": 71,
     "metadata": {},
     "output_type": "execute_result"
    }
   ],
   "source": [
    "df_coo.head()"
   ]
  },
  {
   "cell_type": "code",
   "execution_count": 57,
   "id": "687c1bd5",
   "metadata": {},
   "outputs": [
    {
     "data": {
      "text/plain": [
       "751"
      ]
     },
     "execution_count": 57,
     "metadata": {},
     "output_type": "execute_result"
    }
   ],
   "source": [
    "len(author_map)"
   ]
  },
  {
   "cell_type": "code",
   "execution_count": 61,
   "id": "84d7ccad",
   "metadata": {},
   "outputs": [],
   "source": [
    "adj_mat = np.zeros((len(author_map), len(author_map)))"
   ]
  },
  {
   "cell_type": "code",
   "execution_count": 73,
   "id": "e00918c5",
   "metadata": {},
   "outputs": [],
   "source": [
    "for _, record in df_agg.iterrows():\n",
    "    i = record.author_a\n",
    "    j = record.author_b\n",
    "    adj_mat[i, j] = record.title"
   ]
  },
  {
   "cell_type": "code",
   "execution_count": 74,
   "id": "21e875df",
   "metadata": {},
   "outputs": [],
   "source": [
    "import seaborn as sns"
   ]
  },
  {
   "cell_type": "code",
   "execution_count": 76,
   "id": "7b02f12e",
   "metadata": {},
   "outputs": [
    {
     "data": {
      "text/plain": [
       "<AxesSubplot:>"
      ]
     },
     "execution_count": 76,
     "metadata": {},
     "output_type": "execute_result"
    },
    {
     "data": {
      "image/png": "[encoded data removed]",
      "text/plain": [
       "<Figure size 432x288 with 2 Axes>"
      ]
     },
     "metadata": {
      "needs_background": "light"
     },
     "output_type": "display_data"
    }
   ],
   "source": [
    "sns.heatmap(adj_mat, vmin=0, vmax=1)"
   ]
  },
  {
   "cell_type": "code",
   "execution_count": null,
   "id": "6bbda873",
   "metadata": {},
   "outputs": [],
   "source": []
  }
 ],
 "metadata": {
  "kernelspec": {
   "display_name": "Python 3 (ipykernel)",
   "language": "python",
   "name": "python3"
  },
  "language_info": {
   "codemirror_mode": {
    "name": "ipython",
    "version": 3
   },
   "file_extension": ".py",
   "mimetype": "text/x-python",
   "name": "python",
   "nbconvert_exporter": "python",
   "pygments_lexer": "ipython3",
   "version": "3.9.12"
  },
  "toc": {
   "base_numbering": 1,
   "nav_menu": {},
   "number_sections": true,
   "sideBar": true,
   "skip_h1_title": false,
   "title_cell": "Table of Contents",
   "title_sidebar": "Contents",
   "toc_cell": false,
   "toc_position": {},
   "toc_section_display": true,
   "toc_window_display": true
  }
 },
 "nbformat": 4,
 "nbformat_minor": 5
}
