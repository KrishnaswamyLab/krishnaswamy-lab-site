{
 "cells": [
  {
   "cell_type": "code",
   "execution_count": 1,
   "id": "a3a83045",
   "metadata": {},
   "outputs": [],
   "source": [
    "import os, pandas as pd, json"
   ]
  },
  {
   "cell_type": "code",
   "execution_count": 4,
   "id": "cfb67205",
   "metadata": {},
   "outputs": [
    {
     "data": {
      "text/plain": [
       "['Untitled.ipynb', '.ipynb_checkpoints']"
      ]
     },
     "execution_count": 4,
     "metadata": {},
     "output_type": "execute_result"
    }
   ],
   "source": [
    "os.listdir()"
   ]
  },
  {
   "cell_type": "code",
   "execution_count": 5,
   "id": "759ef6f4",
   "metadata": {},
   "outputs": [],
   "source": [
    "df_counts = pd.read_json('../eb_2018_counts_old.json')\n",
    "df_phate = pd.read_json('../eb_2018_phate_old.json')"
   ]
  },
  {
   "cell_type": "code",
   "execution_count": 6,
   "id": "9f5d5bea",
   "metadata": {},
   "outputs": [
    {
     "data": {
      "text/html": [
       "<div>\n",
       "<style scoped>\n",
       "    .dataframe tbody tr th:only-of-type {\n",
       "        vertical-align: middle;\n",
       "    }\n",
       "\n",
       "    .dataframe tbody tr th {\n",
       "        vertical-align: top;\n",
       "    }\n",
       "\n",
       "    .dataframe thead th {\n",
       "        text-align: right;\n",
       "    }\n",
       "</style>\n",
       "<table border=\"1\" class=\"dataframe\">\n",
       "  <thead>\n",
       "    <tr style=\"text-align: right;\">\n",
       "      <th></th>\n",
       "      <th>P1</th>\n",
       "      <th>P2</th>\n",
       "      <th>samples</th>\n",
       "      <th>time_idx</th>\n",
       "    </tr>\n",
       "  </thead>\n",
       "  <tbody>\n",
       "    <tr>\n",
       "      <th>AAACCGTGCAGAAA-1_Day 00-03</th>\n",
       "      <td>0.021316</td>\n",
       "      <td>-0.007448</td>\n",
       "      <td>Day 00-03</td>\n",
       "      <td>0</td>\n",
       "    </tr>\n",
       "    <tr>\n",
       "      <th>AAACGCACCGGTAT-1_Day 00-03</th>\n",
       "      <td>0.047219</td>\n",
       "      <td>0.030343</td>\n",
       "      <td>Day 00-03</td>\n",
       "      <td>0</td>\n",
       "    </tr>\n",
       "    <tr>\n",
       "      <th>AAACGCACCTATTC-1_Day 00-03</th>\n",
       "      <td>0.043250</td>\n",
       "      <td>0.027219</td>\n",
       "      <td>Day 00-03</td>\n",
       "      <td>0</td>\n",
       "    </tr>\n",
       "    <tr>\n",
       "      <th>AAAGATCTCTGCTC-1_Day 00-03</th>\n",
       "      <td>0.020058</td>\n",
       "      <td>-0.009495</td>\n",
       "      <td>Day 00-03</td>\n",
       "      <td>0</td>\n",
       "    </tr>\n",
       "    <tr>\n",
       "      <th>AAAGATCTGGTACT-1_Day 00-03</th>\n",
       "      <td>0.048272</td>\n",
       "      <td>0.032444</td>\n",
       "      <td>Day 00-03</td>\n",
       "      <td>0</td>\n",
       "    </tr>\n",
       "    <tr>\n",
       "      <th>...</th>\n",
       "      <td>...</td>\n",
       "      <td>...</td>\n",
       "      <td>...</td>\n",
       "      <td>...</td>\n",
       "    </tr>\n",
       "    <tr>\n",
       "      <th>TTTCGAACTTCTCA-1_Day 24-27</th>\n",
       "      <td>-0.020893</td>\n",
       "      <td>-0.001696</td>\n",
       "      <td>Day 24-27</td>\n",
       "      <td>4</td>\n",
       "    </tr>\n",
       "    <tr>\n",
       "      <th>TTTCTACTCTTATC-1_Day 24-27</th>\n",
       "      <td>-0.015315</td>\n",
       "      <td>0.000403</td>\n",
       "      <td>Day 24-27</td>\n",
       "      <td>4</td>\n",
       "    </tr>\n",
       "    <tr>\n",
       "      <th>TTTCTACTTGAGCT-1_Day 24-27</th>\n",
       "      <td>-0.022260</td>\n",
       "      <td>-0.000052</td>\n",
       "      <td>Day 24-27</td>\n",
       "      <td>4</td>\n",
       "    </tr>\n",
       "    <tr>\n",
       "      <th>TTTGCATGATGACC-1_Day 24-27</th>\n",
       "      <td>-0.022448</td>\n",
       "      <td>-0.000069</td>\n",
       "      <td>Day 24-27</td>\n",
       "      <td>4</td>\n",
       "    </tr>\n",
       "    <tr>\n",
       "      <th>TTTGCATGTTCTTG-1_Day 24-27</th>\n",
       "      <td>-0.018734</td>\n",
       "      <td>-0.001075</td>\n",
       "      <td>Day 24-27</td>\n",
       "      <td>4</td>\n",
       "    </tr>\n",
       "  </tbody>\n",
       "</table>\n",
       "<p>16821 rows × 4 columns</p>\n",
       "</div>"
      ],
      "text/plain": [
       "                                  P1        P2    samples  time_idx\n",
       "AAACCGTGCAGAAA-1_Day 00-03  0.021316 -0.007448  Day 00-03         0\n",
       "AAACGCACCGGTAT-1_Day 00-03  0.047219  0.030343  Day 00-03         0\n",
       "AAACGCACCTATTC-1_Day 00-03  0.043250  0.027219  Day 00-03         0\n",
       "AAAGATCTCTGCTC-1_Day 00-03  0.020058 -0.009495  Day 00-03         0\n",
       "AAAGATCTGGTACT-1_Day 00-03  0.048272  0.032444  Day 00-03         0\n",
       "...                              ...       ...        ...       ...\n",
       "TTTCGAACTTCTCA-1_Day 24-27 -0.020893 -0.001696  Day 24-27         4\n",
       "TTTCTACTCTTATC-1_Day 24-27 -0.015315  0.000403  Day 24-27         4\n",
       "TTTCTACTTGAGCT-1_Day 24-27 -0.022260 -0.000052  Day 24-27         4\n",
       "TTTGCATGATGACC-1_Day 24-27 -0.022448 -0.000069  Day 24-27         4\n",
       "TTTGCATGTTCTTG-1_Day 24-27 -0.018734 -0.001075  Day 24-27         4\n",
       "\n",
       "[16821 rows x 4 columns]"
      ]
     },
     "execution_count": 6,
     "metadata": {},
     "output_type": "execute_result"
    }
   ],
   "source": [
    "df_phate"
   ]
  },
  {
   "cell_type": "code",
   "execution_count": 49,
   "id": "e38421be",
   "metadata": {},
   "outputs": [],
   "source": [
    "df_p_json = df_phate.round(5).reset_index(drop=True).to_json(orient='records')"
   ]
  },
  {
   "cell_type": "code",
   "execution_count": 12,
   "id": "44cd8cd7",
   "metadata": {},
   "outputs": [],
   "source": [
    "df_counts.loc[:, 'Timepoint'] = df_phate.time_idx\n",
    "df_counts = df_counts.reset_index(drop=True)"
   ]
  },
  {
   "cell_type": "code",
   "execution_count": 19,
   "id": "71c2da48",
   "metadata": {},
   "outputs": [],
   "source": [
    "for col in df_counts.columns:\n",
    "    df_col = df_counts[[col]]\n",
    "    df_col.reset_index(drop=True).round(5).to_json(\n",
    "        f'../static/data/eb_2018_counts_{col}.json', orient='records'\n",
    "    )\n",
    "#     break \n",
    "    \n",
    "#     df[[col]]"
   ]
  },
  {
   "cell_type": "code",
   "execution_count": 20,
   "id": "2205cd2f",
   "metadata": {},
   "outputs": [
    {
     "data": {
      "text/plain": [
       "Index(['CD34', 'CD69', 'CDH1', 'CDH5', 'CER1', 'CXCR4', 'DPPA4', 'EDNRB',\n",
       "       'EN2', 'EOMES', 'FOXA2', 'FOXD3', 'GATA3', 'GATA4', 'GATA6', 'GBX2',\n",
       "       'HHEX', 'ISL1', 'ITGA4', 'ITGA6', 'KDR', 'LMO2', 'MAP2', 'MIXL1',\n",
       "       'MYBPC2', 'MYH6', 'NANOG', 'NES', 'NEUROD1', 'NKX2-5', 'NPAS1', 'NR2F1',\n",
       "       'NR2F6', 'NR6A1', 'ONECUT1', 'ONECUT2', 'OTX2', 'PAX3', 'PAX6',\n",
       "       'PDGFRA', 'PECAM1', 'POU5F1', 'PRDM14', 'SIX2', 'SOX1', 'SOX10',\n",
       "       'SOX17', 'SOX2', 'SOX9', 'TAL1', 'TBX15', 'TBX18', 'TBX5', 'TNNT2',\n",
       "       'TP53', 'TP63', 'TTN', 'WT1', 'ZBTB16', 'ZIC2', 'ZIC5', 'Timepoint'],\n",
       "      dtype='object')"
      ]
     },
     "execution_count": 20,
     "metadata": {},
     "output_type": "execute_result"
    }
   ],
   "source": [
    "df_counts.columns"
   ]
  },
  {
   "cell_type": "code",
   "execution_count": 69,
   "id": "357c1683",
   "metadata": {},
   "outputs": [],
   "source": [
    "df_counts.reset_index(drop=True).round(5).to_json(\n",
    "    '../src/lib/data/eb_2018_counts.json', orient='records'\n",
    ")"
   ]
  },
  {
   "cell_type": "code",
   "execution_count": 59,
   "id": "fd352505",
   "metadata": {},
   "outputs": [],
   "source": [
    "df_c_json = df_counts.reset_index(drop=True).round(5).to_json(\n",
    "    '../src/lib/data/eb_2018_counts.json', orient='records'\n",
    ")"
   ]
  },
  {
   "cell_type": "code",
   "execution_count": 58,
   "id": "796fe290",
   "metadata": {},
   "outputs": [],
   "source": [
    "with open('../src/lib/data/eb_2018_counts.json', 'w') as f:\n",
    "    f.write(df_c_json)\n",
    "    \n",
    "with open('../src/lib/data/eb_2018_phate.json', 'w') as f:\n",
    "    f.write(df_p_json)"
   ]
  },
  {
   "cell_type": "code",
   "execution_count": null,
   "id": "e832d7a0",
   "metadata": {},
   "outputs": [],
   "source": [
    "df_counts.to_json()"
   ]
  },
  {
   "cell_type": "code",
   "execution_count": null,
   "id": "595f42e5",
   "metadata": {},
   "outputs": [],
   "source": [
    "f_counts.reset_index(drop=True).round(5)."
   ]
  }
 ],
 "metadata": {
  "kernelspec": {
   "display_name": "Python [conda env:cpsc663]",
   "language": "python",
   "name": "conda-env-cpsc663-py"
  },
  "language_info": {
   "codemirror_mode": {
    "name": "ipython",
    "version": 3
   },
   "file_extension": ".py",
   "mimetype": "text/x-python",
   "name": "python",
   "nbconvert_exporter": "python",
   "pygments_lexer": "ipython3",
   "version": "3.10.9"
  },
  "toc": {
   "base_numbering": 1,
   "nav_menu": {},
   "number_sections": true,
   "sideBar": true,
   "skip_h1_title": false,
   "title_cell": "Table of Contents",
   "title_sidebar": "Contents",
   "toc_cell": false,
   "toc_position": {},
   "toc_section_display": true,
   "toc_window_display": false
  }
 },
 "nbformat": 4,
 "nbformat_minor": 5
}
