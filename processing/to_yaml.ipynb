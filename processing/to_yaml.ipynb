{
 "cells": [
  {
   "cell_type": "code",
   "execution_count": 1,
   "id": "1cda8691",
   "metadata": {},
   "outputs": [
    {
     "name": "stderr",
     "output_type": "stream",
     "text": [
      "<frozen importlib._bootstrap>:228: RuntimeWarning: scipy._lib.messagestream.MessageStream size changed, may indicate binary incompatibility. Expected 56 from C header, got 64 from PyObject\n"
     ]
    }
   ],
   "source": [
    "import os, sys, json, numpy as np, pandas as pd, json\n",
    "import seaborn as sns"
   ]
  },
  {
   "cell_type": "code",
   "execution_count": 2,
   "id": "b7cf1c4a",
   "metadata": {},
   "outputs": [],
   "source": [
    "from yaml import load, dump\n",
    "try:\n",
    "    from yaml import CLoader as Loader, CDumper as Dumper\n",
    "except ImportError:\n",
    "    from yaml import Loader, Dumper"
   ]
  },
  {
   "cell_type": "code",
   "execution_count": 14,
   "id": "28d0b1e1",
   "metadata": {},
   "outputs": [],
   "source": [
    "# stream = file('document.yaml', 'r') \n",
    "# data = load(stream, Loader=Loader)\n",
    "output = dump(data, Dumper=Dumper)"
   ]
  },
  {
   "cell_type": "code",
   "execution_count": 8,
   "id": "a068eee7",
   "metadata": {},
   "outputs": [],
   "source": [
    "# print(dump(data[0], Dumper=Dumper, default_flow_style=False))"
   ]
  },
  {
   "cell_type": "markdown",
   "id": "959ed7b7",
   "metadata": {},
   "source": [
    "# Members"
   ]
  },
  {
   "cell_type": "code",
   "execution_count": 62,
   "id": "b9601b67",
   "metadata": {},
   "outputs": [],
   "source": [
    "with open('../src/lib/data/members.json', 'r') as f:\n",
    "    data = json.load(f)"
   ]
  },
  {
   "cell_type": "code",
   "execution_count": 63,
   "id": "bb4adcd6",
   "metadata": {},
   "outputs": [],
   "source": [
    "for member in data:\n",
    "    base = f\"{member['name']['first']}_{member['name']['last']}\"\n",
    "    base = base.lower()\n",
    "    \n",
    "    _dir = os.path.join('../src/yaml/members')\n",
    "    if not os.path.isdir(_dir):\n",
    "        os.makedirs(_dir)\n",
    "        \n",
    "    to_del = []\n",
    "    for key, val in member.items():\n",
    "#         if key == 'about':\n",
    "#             print(member)\n",
    "            \n",
    "        if val is None and val != 'about':\n",
    "            \n",
    "            to_del.append(key)\n",
    "            \n",
    "        if key == 'name':\n",
    "            if 'preferred_name' in val:\n",
    "                del val['preferred_name']\n",
    "            if val['middle'] is None:\n",
    "                del val['middle']\n",
    "                \n",
    "    for key in to_del:\n",
    "        del member[key]\n",
    "        \n",
    "    if member['isAlum'] == False:\n",
    "        del member['isAlum']\n",
    "    \n",
    "    with open(os.path.join(_dir, f'{base}.yml'), 'w') as f:\n",
    "        f.write(dump(member, Dumper=Dumper, default_flow_style=False))"
   ]
  },
  {
   "cell_type": "code",
   "execution_count": 64,
   "id": "09cce155",
   "metadata": {},
   "outputs": [],
   "source": [
    "keys = {}\n",
    "for record in data:\n",
    "    for key in record.keys():\n",
    "        if key not in keys:\n",
    "            keys[key] = 0\n",
    "        keys[key] += 1\n",
    "        \n",
    "key_vals = {}\n",
    "for record in data:\n",
    "    for key in record.keys():\n",
    "        if key not in key_vals:\n",
    "            key_vals[key] = set({})\n",
    "        key_vals[key].add(type(record[key]))"
   ]
  },
  {
   "cell_type": "code",
   "execution_count": 65,
   "id": "99aec681",
   "metadata": {},
   "outputs": [
    {
     "data": {
      "text/plain": [
       "{'name': {dict},\n",
       " 'title': {str},\n",
       " 'image': {str},\n",
       " 'website': {str},\n",
       " 'cv': {str},\n",
       " 'about': {str},\n",
       " 'publications': {list},\n",
       " 'name_str': {str},\n",
       " 'isAlum': {bool}}"
      ]
     },
     "execution_count": 65,
     "metadata": {},
     "output_type": "execute_result"
    }
   ],
   "source": [
    "key_vals"
   ]
  },
  {
   "cell_type": "code",
   "execution_count": 66,
   "id": "c6c0256e",
   "metadata": {},
   "outputs": [
    {
     "data": {
      "text/plain": [
       "[('name', 40),\n",
       " ('publications', 40),\n",
       " ('name_str', 40),\n",
       " ('image', 39),\n",
       " ('about', 39),\n",
       " ('isAlum', 27),\n",
       " ('title', 12),\n",
       " ('website', 5),\n",
       " ('cv', 1)]"
      ]
     },
     "execution_count": 66,
     "metadata": {},
     "output_type": "execute_result"
    }
   ],
   "source": [
    "sorted(keys.items(), key=lambda e: e[1], reverse=True)"
   ]
  },
  {
   "cell_type": "markdown",
   "id": "a4c6041e",
   "metadata": {},
   "source": [
    "# Affiliations"
   ]
  },
  {
   "cell_type": "code",
   "execution_count": 4,
   "id": "33e50871",
   "metadata": {},
   "outputs": [],
   "source": [
    "import string\n",
    "def scrub_punc(s):\n",
    "    return s.translate(str.maketrans('', '', string.punctuation))"
   ]
  },
  {
   "cell_type": "code",
   "execution_count": 12,
   "id": "a7c45b2a",
   "metadata": {},
   "outputs": [],
   "source": [
    "with open('../src/lib/data/affiliations.json', 'r') as f:\n",
    "    data = json.load(f)\n",
    "    \n",
    "for record in data:\n",
    "    base = record[\"title\"]\n",
    "    \n",
    "    base = base.lower()\n",
    "    base = base.split('(')[0]\n",
    "    base = base.split(',')[0]\n",
    "    base = scrub_punc(base)\n",
    "    base = base.replace(' ', '_')\n",
    "    \n",
    "    _dir = os.path.join('../static/yaml/affiliations')\n",
    "    if not os.path.isdir(_dir):\n",
    "        os.makedirs(_dir)\n",
    "    \n",
    "    with open(os.path.join(_dir, f'{base}.yml'), 'w') as f:\n",
    "        f.write(dump(record, Dumper=Dumper, default_flow_style=False))"
   ]
  },
  {
   "cell_type": "code",
   "execution_count": null,
   "id": "f4f6c748",
   "metadata": {},
   "outputs": [],
   "source": []
  },
  {
   "cell_type": "markdown",
   "id": "4ccfd75a",
   "metadata": {},
   "source": [
    "# Courses"
   ]
  },
  {
   "cell_type": "code",
   "execution_count": 51,
   "id": "67bc7957",
   "metadata": {},
   "outputs": [],
   "source": [
    "with open('../src/lib/data/courses.json', 'r') as f:\n",
    "    data = json.load(f)\n",
    "    \n",
    "for record in data:\n",
    "#     base = record[\"title\"]\n",
    "    base = sorted(record[\"listings\"])[0]\n",
    "    \n",
    "    base = base.lower()\n",
    "    base = base.replace(' ', '_')\n",
    "    \n",
    "    for key, val in record.items():\n",
    "        if key == 'about' and val:\n",
    "            record[key] = val.replace('\\u201C', '\"').replace('\\u201D', '\"')\n",
    "    \n",
    "    \n",
    "    _dir = os.path.join('../src/yaml/courses')\n",
    "    if not os.path.isdir(_dir):\n",
    "        os.makedirs(_dir)\n",
    "    \n",
    "    with open(os.path.join(_dir, f'{base}.yml'), 'w') as f:\n",
    "        f.write(dump(record, Dumper=Dumper, default_flow_style=False))"
   ]
  },
  {
   "cell_type": "markdown",
   "id": "a876cbad",
   "metadata": {},
   "source": [
    "# Projects"
   ]
  },
  {
   "cell_type": "code",
   "execution_count": 14,
   "id": "0c67c353",
   "metadata": {},
   "outputs": [],
   "source": [
    "with open('../src/lib/data/projects.json', 'r') as f:\n",
    "    data = json.load(f)\n",
    "    \n",
    "for record in data:\n",
    "    base = record[\"projectTitle\"]    \n",
    "    base = base.lower()\n",
    "    base = base.split('(')[0]\n",
    "    base = base.split(',')[0]\n",
    "    base = scrub_punc(base)\n",
    "    base = base.replace(' ', '_')\n",
    "    \n",
    "    _dir = os.path.join('../static/yaml/projects')\n",
    "    if not os.path.isdir(_dir):\n",
    "        os.makedirs(_dir)\n",
    "    \n",
    "    with open(os.path.join(_dir, f'{base}.yml'), 'w') as f:\n",
    "        f.write(dump(record, Dumper=Dumper, default_flow_style=False))"
   ]
  },
  {
   "cell_type": "markdown",
   "id": "c5199f53",
   "metadata": {},
   "source": [
    "# Research Categories"
   ]
  },
  {
   "cell_type": "code",
   "execution_count": 15,
   "id": "a5aa8c44",
   "metadata": {},
   "outputs": [],
   "source": [
    "with open('../src/lib/data/research_categories.json', 'r') as f:\n",
    "    data = json.load(f)\n",
    "    \n",
    "for record in data:\n",
    "    base = record[\"title\"]    \n",
    "    base = base.lower()\n",
    "    base = base.split('(')[0]\n",
    "    base = base.split(',')[0]\n",
    "    base = scrub_punc(base)\n",
    "    base = base.replace(' ', '_')\n",
    "    \n",
    "    _dir = os.path.join('../static/yaml/research_categories')\n",
    "    if not os.path.isdir(_dir):\n",
    "        os.makedirs(_dir)\n",
    "    \n",
    "    with open(os.path.join(_dir, f'{base}.yml'), 'w') as f:\n",
    "        f.write(dump(record, Dumper=Dumper, default_flow_style=False))"
   ]
  },
  {
   "cell_type": "markdown",
   "id": "d4bc5b3a",
   "metadata": {},
   "source": [
    "# Selected Publications"
   ]
  },
  {
   "cell_type": "code",
   "execution_count": 50,
   "id": "0f912037",
   "metadata": {},
   "outputs": [
    {
     "name": "stdout",
     "output_type": "stream",
     "text": [
      "volume None\n",
      "2022_huguet_manifold already exists\n",
      "volume None\n",
      "2018_dijk_recovering already exists\n",
      "volume None\n",
      "2018_lindenbaum_geometry already exists\n",
      "volume None\n",
      "2019_amodio_travelgan: already exists\n",
      "volume None\n",
      "2019_amodio_exploring already exists\n",
      "volume None\n",
      "2019_moon_visualizing already exists\n",
      "volume None\n",
      "2020_chen_uncovering already exists\n",
      "volume None\n",
      "2018_stanley_harmonic already exists\n",
      "volume None\n",
      "2020_tong_trajectorynet: already exists\n",
      "volume None\n",
      "2020_tong_interpretable already exists\n",
      "volume None\n",
      "2020_rieck_uncovering already exists\n",
      "volume None\n",
      "2021_tong_diffusion already exists\n",
      "volume None\n",
      "2021_burkhardt_quantifying already exists\n",
      "volume None\n",
      "2021_amodio_generating already exists\n",
      "volume None\n",
      "2021_kuchroo_multimodal already exists\n",
      "volume None\n",
      "2021_gerasimiuk_mural: already exists\n",
      "volume None\n",
      "2019_tong_fixing already exists\n",
      "volume None\n",
      "2022_kuchroo_multiscale already exists\n",
      "volume None\n",
      "2021_horoi_exploring already exists\n",
      "volume None\n",
      "2022_burkhardt_mapping already exists\n",
      "volume None\n",
      "2022_castro_transformer-based already exists\n",
      "volume None\n",
      "2022_amodio_single-cell already exists\n",
      "volume None\n",
      "2022_bhaskar_diffusion already exists\n",
      "volume None\n",
      "2021_bhaskar_molecular already exists\n",
      "volume None\n",
      "2022_huguet_time-inhomogeneous already exists\n",
      "volume None\n",
      "2022_hafler_topological already exists\n"
     ]
    }
   ],
   "source": [
    "with open('../src/lib/data/selected_publications.json', 'r') as f:\n",
    "    data = json.load(f)\n",
    "    \n",
    "for record in data:\n",
    "    base = record[\"title\"]    \n",
    "    base = base.lower()\n",
    "    base = base.split('(')[0]\n",
    "    base = base.split(',')[0]\n",
    "    base = scrub_punc(base)\n",
    "    base = base.replace(' ', '_')\n",
    "    \n",
    "    _dir = os.path.join('../src/yaml/selected_publications')\n",
    "    if not os.path.isdir(_dir):\n",
    "        os.makedirs(_dir)\n",
    "        \n",
    "    to_del = ['urls']\n",
    "    for key, val in record.items():\n",
    "        if key == 'abstract' and not val:\n",
    "            val = 'Age-related macular degeneration (AMD) is a neurodegenerative disease that is among the leading causes of blindness worldwide. The molecular pathways that lead to chronic inflammation and vision loss in AMD are not well understood. Our hypothesis is that functional changes in glia influence neurodegeneration in AMD, and these changes may be targeted to halt disease progression and preserve vision.'\n",
    "        \n",
    "        \n",
    "        if key == 'authors' and val:\n",
    "            record[key] = [\n",
    "                ' '.join(a['name']) for a in val\n",
    "            ]\n",
    "            \n",
    "        elif key == 'urls' and val:\n",
    "            record[key] = [\n",
    "                u['href'] for u in val\n",
    "                if 'https://' in u['href']\n",
    "            ]\n",
    "            \n",
    "            \n",
    "        elif key == 'keywords' and val:\n",
    "            if 'Exploring the Geometry and Topology of Neural Network Loss Landscapes' in record['title']:\n",
    "                record[key] = []\n",
    "            \n",
    "            record[key] = [\n",
    "                k for k in val\n",
    "                if '\\u2212' not in k and\n",
    "                '\\u2020' not in k\n",
    "            ]\n",
    "            \n",
    "            \n",
    "        elif key in 'year month issue'.split() and val:\n",
    "            record[key] = int(val)\n",
    "            \n",
    "            \n",
    "        elif key == 'abstract' and val:\n",
    "            record[key] = ' '.join(val.split()).replace('\\u2018', \"'\").replace('\\u2019', \"'\")\n",
    "            \n",
    "        elif key in 'periodical publisher'.split() and val:\n",
    "            if val == 'Nat Biotechnol':\n",
    "                val = 'Nature Publishing Group'\n",
    "            \n",
    "            record[key] = val.strip()\n",
    "            \n",
    "        elif val is None:\n",
    "            to_del.append(key)\n",
    "            \n",
    "        elif key == 'title' and val:\n",
    "            record[key] = val.replace('\\u2019', \"'\")\n",
    "            \n",
    "    record['href'] = record['urls'][0]\n",
    "    for key in to_del:\n",
    "        del record[key]\n",
    "        \n",
    "    if record['selected'] == False:\n",
    "        del record['selected']\n",
    "\n",
    "    y = record[\"year\"]\n",
    "    a = record[\"authors\"][0].split(' ')[-1].lower()\n",
    "    t = record['title'].split(' ')[0].lower() \n",
    "    base = f'{y}_{a}_{t}'\n",
    "    if os.path.isfile(os.path.join(_dir, f'{base}.yml')):\n",
    "        print(f'{base} already exists')\n",
    "    with open(os.path.join(_dir, f'{base}.yml'), 'w') as f:\n",
    "        f.write(dump(record, Dumper=Dumper, default_flow_style=False))"
   ]
  },
  {
   "cell_type": "code",
   "execution_count": 46,
   "id": "88da2583",
   "metadata": {},
   "outputs": [],
   "source": [
    "keys = {}\n",
    "for record in data:\n",
    "    for key in record.keys():\n",
    "        if key not in keys:\n",
    "            keys[key] = 0\n",
    "        keys[key] += 1"
   ]
  },
  {
   "cell_type": "code",
   "execution_count": 47,
   "id": "f852057b",
   "metadata": {},
   "outputs": [],
   "source": [
    "key_vals = {}\n",
    "for record in data:\n",
    "    for key in record.keys():\n",
    "        if key not in key_vals:\n",
    "            key_vals[key] = set({})\n",
    "        key_vals[key].add(type(record[key]))"
   ]
  },
  {
   "cell_type": "code",
   "execution_count": 48,
   "id": "cc5c7c13",
   "metadata": {},
   "outputs": [
    {
     "data": {
      "text/plain": [
       "{'title': {str},\n",
       " 'type': {str},\n",
       " 'authors': {list},\n",
       " 'year': {int},\n",
       " 'month': {int},\n",
       " 'abstract': {str},\n",
       " 'periodical': {str},\n",
       " 'keywords': {list},\n",
       " 'selected': {bool},\n",
       " 'href': {str},\n",
       " 'pages': {str},\n",
       " 'publisher': {str},\n",
       " 'issue': {int}}"
      ]
     },
     "execution_count": 48,
     "metadata": {},
     "output_type": "execute_result"
    }
   ],
   "source": [
    "key_vals"
   ]
  },
  {
   "cell_type": "code",
   "execution_count": 49,
   "id": "d2ec966f",
   "metadata": {},
   "outputs": [
    {
     "data": {
      "text/plain": [
       "[('title', 26),\n",
       " ('type', 26),\n",
       " ('authors', 26),\n",
       " ('year', 26),\n",
       " ('abstract', 26),\n",
       " ('periodical', 26),\n",
       " ('keywords', 26),\n",
       " ('selected', 26),\n",
       " ('href', 26),\n",
       " ('month', 22),\n",
       " ('publisher', 22),\n",
       " ('pages', 19),\n",
       " ('issue', 12)]"
      ]
     },
     "execution_count": 49,
     "metadata": {},
     "output_type": "execute_result"
    }
   ],
   "source": [
    "sorted(keys.items(), key=lambda e: e[1], reverse=True)"
   ]
  },
  {
   "cell_type": "markdown",
   "id": "d39e7ce8",
   "metadata": {
    "heading_collapsed": true
   },
   "source": [
    "# Workshops"
   ]
  },
  {
   "cell_type": "code",
   "execution_count": 17,
   "id": "0c1ba2a0",
   "metadata": {
    "hidden": true
   },
   "outputs": [],
   "source": [
    "with open('../src/lib/data/workshop_syllabus_2021.json', 'r') as f:\n",
    "    data = json.load(f)\n",
    "\n",
    "_dir = os.path.join('../static/yaml/workshops/2021')\n",
    "if not os.path.isdir(_dir):\n",
    "    os.makedirs(_dir)\n",
    "\n",
    "\n",
    "# for record in data:\n",
    "#     base = record[\"title\"]    \n",
    "#     base = base.lower()\n",
    "#     base = base.split('(')[0]\n",
    "#     base = base.split(',')[0]\n",
    "#     base = scrub_punc(base)\n",
    "#     base = base.replace(' ', '_')\n",
    "    \n",
    "    \n",
    "base = 'syllabus'\n",
    "with open(os.path.join(_dir, f'{base}.yml'), 'w') as f:\n",
    "    f.write(dump(data, Dumper=Dumper, default_flow_style=False))"
   ]
  },
  {
   "cell_type": "code",
   "execution_count": null,
   "id": "a6825ff6",
   "metadata": {
    "hidden": true
   },
   "outputs": [],
   "source": []
  }
 ],
 "metadata": {
  "kernelspec": {
   "display_name": "Python 3 (ipykernel)",
   "language": "python",
   "name": "python3"
  },
  "language_info": {
   "codemirror_mode": {
    "name": "ipython",
    "version": 3
   },
   "file_extension": ".py",
   "mimetype": "text/x-python",
   "name": "python",
   "nbconvert_exporter": "python",
   "pygments_lexer": "ipython3",
   "version": "3.9.15"
  },
  "toc": {
   "base_numbering": 1,
   "nav_menu": {},
   "number_sections": true,
   "sideBar": true,
   "skip_h1_title": false,
   "title_cell": "Table of Contents",
   "title_sidebar": "Contents",
   "toc_cell": false,
   "toc_position": {
    "height": "calc(100% - 180px)",
    "left": "10px",
    "top": "150px",
    "width": "165px"
   },
   "toc_section_display": true,
   "toc_window_display": true
  }
 },
 "nbformat": 4,
 "nbformat_minor": 5
}
