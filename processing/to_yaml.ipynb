{
 "cells": [
  {
   "cell_type": "code",
   "execution_count": 1,
   "id": "1cda8691",
   "metadata": {},
   "outputs": [
    {
     "name": "stderr",
     "output_type": "stream",
     "text": [
      "<frozen importlib._bootstrap>:228: RuntimeWarning: scipy._lib.messagestream.MessageStream size changed, may indicate binary incompatibility. Expected 56 from C header, got 64 from PyObject\n"
     ]
    }
   ],
   "source": [
    "import os, sys, json, numpy as np, pandas as pd, json\n",
    "import seaborn as sns"
   ]
  },
  {
   "cell_type": "code",
   "execution_count": 14,
   "id": "28d0b1e1",
   "metadata": {},
   "outputs": [],
   "source": [
    "with open('../src/lib/data/members.json', 'r') as f:\n",
    "    data = json.load(f)"
   ]
  },
  {
   "cell_type": "code",
   "execution_count": 15,
   "id": "b7cf1c4a",
   "metadata": {},
   "outputs": [],
   "source": [
    "from yaml import load, dump\n",
    "try:\n",
    "    from yaml import CLoader as Loader, CDumper as Dumper\n",
    "except ImportError:\n",
    "    from yaml import Loader, Dumper"
   ]
  },
  {
   "cell_type": "code",
   "execution_count": null,
   "id": "e5c4cbcc",
   "metadata": {},
   "outputs": [],
   "source": [
    "# stream = file('document.yaml', 'r') \n",
    "# data = load(stream, Loader=Loader)"
   ]
  },
  {
   "cell_type": "code",
   "execution_count": 16,
   "id": "e4564ccd",
   "metadata": {},
   "outputs": [],
   "source": [
    "output = dump(data, Dumper=Dumper)"
   ]
  },
  {
   "cell_type": "code",
   "execution_count": 17,
   "id": "a068eee7",
   "metadata": {},
   "outputs": [
    {
     "name": "stdout",
     "output_type": "stream",
     "text": [
      "about: 'Smita Krishnaswamy is an Associate Professor in the department of Genetics\n",
      "  at the Yale School of Medicine and Department of Computer Science in the Yale School\n",
      "  of Applied Science and Engineering and a core member of the Program in Applied Mathematics.\n",
      "  She is also affiliated with the Yale Center for Biomedical Data Science, Yale Cancer\n",
      "  Center, and Program in Interdisciplinary Neuroscience. Smita''s research focuses\n",
      "  on developing unsupervised machine learning methods (especially graph signal processing\n",
      "  and deep-learning) to denoise, impute, visualize and extract structure, patterns\n",
      "  and relationships from big, high throughput, high dimensional biomedical data. Her\n",
      "  methods have been applied variety of datasets from many systems including embryoid\n",
      "  body differentiation, zebrafish development, the epithelial-to-mesenchymal transition\n",
      "  in breast cancer, lung cancer immunotherapy, infectious disease data, gut microbiome\n",
      "  data and patient data.\n",
      "\n",
      "  Smita teaches three courses: Machine Learning for Biology (Fall), Deep Learning\n",
      "  Theory and applications (spring), Advanced Topics in Machine Learning & Data Mining\n",
      "  (Spring). She completed her postdoctoral training at Columbia University in the\n",
      "  systems biology department where she focused on learning computational models of\n",
      "  cellular signaling from single-cell mass cytometry data. She was trained as a computer\n",
      "  scientist with a Ph.D. from the University of Michigan''s EECS department where\n",
      "  her research focused on algorithms for automated synthesis and probabilistic verification\n",
      "  of nanoscale logic circuits. Following her time in Michigan, Smita spent 2 years\n",
      "  at IBM''s TJ Watson Research  Center as a researcher in the systems division where\n",
      "  she worked on automated bug finding and error correction in logic.'\n",
      "cv: https://docs.google.com/document/d/1pDm0GNMrXCTxD4E3tDDkYCGE3WUn0V5YPVpVCcAU6cU/edit?usp=sharing\n",
      "image: /images/members/smita_krishnaswamy.jpeg\n",
      "isAlum: false\n",
      "name:\n",
      "  first: Smita\n",
      "  last: Krishnaswamy\n",
      "  middle: null\n",
      "  preferred: Smita\n",
      "  preferred_name: Smita\n",
      "name_str: Smita Krishnaswamy\n",
      "publications:\n",
      "- Manifold Interpolating Optimal-Transport Flows for Trajectory Inference\n",
      "- Recovering Gene Interactions from Single-Cell Data Using Data Diffusion\n",
      "- Geometry Based Data Generation\n",
      "- 'TraVeLGAN: Image-to-image Translation by Transformation Vector Learning'\n",
      "- Exploring single-cell data with deep multitasking neural networks\n",
      "- Visualizing structure and transitions in high-dimensional biological data\n",
      "- Uncovering axes of variation among single-cell cancer specimens\n",
      "- Harmonic Alignment\n",
      "- 'TrajectoryNet: A Dynamic Optimal Transport Network for Modeling Cellular Dynamics'\n",
      "- Interpretable Neuron Structuring with Graph Spectral Regularization\n",
      "- Uncovering the Topology of Time-Varying fMRI Data using Cubical Persistence\n",
      "- \"Diffusion Earth Mover\\u2019s Distance and Distribution Embeddings\"\n",
      "- Quantifying the effect of experimental perturbations at single-cell resolution\n",
      "- 'Generating hard-to-obtain information from easy-to-obtain information: Applications\n",
      "  in drug discovery and clinical inference'\n",
      "- Multimodal Data Visualization and Denoising with Integrated Diffusion\n",
      "- 'MURAL: An Unsupervised Random Forest-Based Embedding for Electronic Health Record\n",
      "  Data'\n",
      "- Fixing Bias in Reconstruction-based Anomaly Detection with Lipschitz Discriminators\n",
      "- Multiscale PHATE identifies multimodal signatures of COVID-19\n",
      "- Exploring the Geometry and Topology of Neural Network Loss Landscapes\n",
      "- Mapping Phenotypic Plasticity upon the Cancer Cell State Landscape Using Manifold\n",
      "  Learning\n",
      "- Transformer-based protein generation with regularized latent space optimization\n",
      "- Single-cell multi-modal GAN reveals spatial patterns in single-cell data from triple-negative\n",
      "  breast cancer\n",
      "- Diffusion Curvature for Estimating Local Curvature in High Dimensional Data\n",
      "- Molecular Graph Generation via Geometric Scattering\n",
      "- Time-inhomogeneous diffusion geometry and topology\n",
      "- Topological analysis of single-cell hierarchy reveals inflammatory glial landscape\n",
      "  of macular degeneration\n",
      "title: PhD\n",
      "website: /\n",
      "\n"
     ]
    }
   ],
   "source": [
    "print(dump(data[0], Dumper=Dumper, default_flow_style=False))"
   ]
  },
  {
   "cell_type": "code",
   "execution_count": null,
   "id": "9a7aa3e1",
   "metadata": {},
   "outputs": [],
   "source": []
  }
 ],
 "metadata": {
  "kernelspec": {
   "display_name": "Python 3 (ipykernel)",
   "language": "python",
   "name": "python3"
  },
  "language_info": {
   "codemirror_mode": {
    "name": "ipython",
    "version": 3
   },
   "file_extension": ".py",
   "mimetype": "text/x-python",
   "name": "python",
   "nbconvert_exporter": "python",
   "pygments_lexer": "ipython3",
   "version": "3.9.15"
  },
  "toc": {
   "base_numbering": 1,
   "nav_menu": {},
   "number_sections": true,
   "sideBar": true,
   "skip_h1_title": false,
   "title_cell": "Table of Contents",
   "title_sidebar": "Contents",
   "toc_cell": false,
   "toc_position": {
    "height": "calc(100% - 180px)",
    "left": "10px",
    "top": "150px",
    "width": "206.470581px"
   },
   "toc_section_display": true,
   "toc_window_display": true
  }
 },
 "nbformat": 4,
 "nbformat_minor": 5
}
