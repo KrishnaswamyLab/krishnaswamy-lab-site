{
 "cells": [
  {
   "cell_type": "code",
   "execution_count": 2,
   "id": "1cda8691",
   "metadata": {},
   "outputs": [],
   "source": [
    "import os, sys, json, numpy as np, pandas as pd, json\n",
    "import seaborn as sns"
   ]
  },
  {
   "cell_type": "code",
   "execution_count": 3,
   "id": "b7cf1c4a",
   "metadata": {},
   "outputs": [],
   "source": [
    "from yaml import load, dump\n",
    "try:\n",
    "    from yaml import CLoader as Loader, CDumper as Dumper\n",
    "except ImportError:\n",
    "    from yaml import Loader, Dumper"
   ]
  },
  {
   "cell_type": "code",
   "execution_count": 14,
   "id": "28d0b1e1",
   "metadata": {},
   "outputs": [],
   "source": [
    "# stream = file('document.yaml', 'r') \n",
    "# data = load(stream, Loader=Loader)\n",
    "output = dump(data, Dumper=Dumper)"
   ]
  },
  {
   "cell_type": "code",
   "execution_count": 8,
   "id": "a068eee7",
   "metadata": {},
   "outputs": [],
   "source": [
    "# print(dump(data[0], Dumper=Dumper, default_flow_style=False))"
   ]
  },
  {
   "cell_type": "markdown",
   "id": "959ed7b7",
   "metadata": {},
   "source": [
    "# Members"
   ]
  },
  {
   "cell_type": "code",
   "execution_count": 4,
   "id": "b9601b67",
   "metadata": {},
   "outputs": [],
   "source": [
    "with open('../src/lib/data/members.json', 'r') as f:\n",
    "    data = json.load(f)"
   ]
  },
  {
   "cell_type": "code",
   "execution_count": 7,
   "id": "bb4adcd6",
   "metadata": {},
   "outputs": [],
   "source": [
    "for member in data:\n",
    "    base = f\"{member['name']['first']}_{member['name']['last']}\"\n",
    "    base = base.lower()\n",
    "    \n",
    "    _dir = os.path.join('../static/yaml/members')\n",
    "    if not os.path.isdir(_dir):\n",
    "        os.makedirs(_dir)\n",
    "    \n",
    "    with open(os.path.join(_dir, f'{base}.yml'), 'w') as f:\n",
    "        f.write(dump(member, Dumper=Dumper, default_flow_style=False))"
   ]
  },
  {
   "cell_type": "markdown",
   "id": "a4c6041e",
   "metadata": {},
   "source": [
    "# Affiliations"
   ]
  },
  {
   "cell_type": "code",
   "execution_count": 9,
   "id": "33e50871",
   "metadata": {},
   "outputs": [],
   "source": [
    "import string\n",
    "def scrub_punc(s):\n",
    "    return s.translate(str.maketrans('', '', string.punctuation))"
   ]
  },
  {
   "cell_type": "code",
   "execution_count": 12,
   "id": "a7c45b2a",
   "metadata": {},
   "outputs": [],
   "source": [
    "with open('../src/lib/data/affiliations.json', 'r') as f:\n",
    "    data = json.load(f)\n",
    "    \n",
    "for record in data:\n",
    "    base = record[\"title\"]\n",
    "    \n",
    "    base = base.lower()\n",
    "    base = base.split('(')[0]\n",
    "    base = base.split(',')[0]\n",
    "    base = scrub_punc(base)\n",
    "    base = base.replace(' ', '_')\n",
    "    \n",
    "    _dir = os.path.join('../static/yaml/affiliations')\n",
    "    if not os.path.isdir(_dir):\n",
    "        os.makedirs(_dir)\n",
    "    \n",
    "    with open(os.path.join(_dir, f'{base}.yml'), 'w') as f:\n",
    "        f.write(dump(record, Dumper=Dumper, default_flow_style=False))"
   ]
  },
  {
   "cell_type": "markdown",
   "id": "4ccfd75a",
   "metadata": {},
   "source": [
    "# Courses"
   ]
  },
  {
   "cell_type": "code",
   "execution_count": 13,
   "id": "67bc7957",
   "metadata": {},
   "outputs": [],
   "source": [
    "with open('../src/lib/data/courses.json', 'r') as f:\n",
    "    data = json.load(f)\n",
    "    \n",
    "for record in data:\n",
    "#     base = record[\"title\"]\n",
    "    base = sorted(record[\"listings\"])[0]\n",
    "    \n",
    "    base = base.lower()\n",
    "    base = base.replace(' ', '_')\n",
    "    \n",
    "    _dir = os.path.join('../static/yaml/courses')\n",
    "    if not os.path.isdir(_dir):\n",
    "        os.makedirs(_dir)\n",
    "    \n",
    "    with open(os.path.join(_dir, f'{base}.yml'), 'w') as f:\n",
    "        f.write(dump(record, Dumper=Dumper, default_flow_style=False))"
   ]
  },
  {
   "cell_type": "markdown",
   "id": "a876cbad",
   "metadata": {},
   "source": [
    "# Projects"
   ]
  },
  {
   "cell_type": "code",
   "execution_count": 14,
   "id": "0c67c353",
   "metadata": {},
   "outputs": [],
   "source": [
    "with open('../src/lib/data/projects.json', 'r') as f:\n",
    "    data = json.load(f)\n",
    "    \n",
    "for record in data:\n",
    "    base = record[\"projectTitle\"]    \n",
    "    base = base.lower()\n",
    "    base = base.split('(')[0]\n",
    "    base = base.split(',')[0]\n",
    "    base = scrub_punc(base)\n",
    "    base = base.replace(' ', '_')\n",
    "    \n",
    "    _dir = os.path.join('../static/yaml/projects')\n",
    "    if not os.path.isdir(_dir):\n",
    "        os.makedirs(_dir)\n",
    "    \n",
    "    with open(os.path.join(_dir, f'{base}.yml'), 'w') as f:\n",
    "        f.write(dump(record, Dumper=Dumper, default_flow_style=False))"
   ]
  },
  {
   "cell_type": "markdown",
   "id": "c5199f53",
   "metadata": {},
   "source": [
    "# Research Categories"
   ]
  },
  {
   "cell_type": "code",
   "execution_count": 15,
   "id": "a5aa8c44",
   "metadata": {},
   "outputs": [],
   "source": [
    "with open('../src/lib/data/research_categories.json', 'r') as f:\n",
    "    data = json.load(f)\n",
    "    \n",
    "for record in data:\n",
    "    base = record[\"title\"]    \n",
    "    base = base.lower()\n",
    "    base = base.split('(')[0]\n",
    "    base = base.split(',')[0]\n",
    "    base = scrub_punc(base)\n",
    "    base = base.replace(' ', '_')\n",
    "    \n",
    "    _dir = os.path.join('../static/yaml/research_categories')\n",
    "    if not os.path.isdir(_dir):\n",
    "        os.makedirs(_dir)\n",
    "    \n",
    "    with open(os.path.join(_dir, f'{base}.yml'), 'w') as f:\n",
    "        f.write(dump(record, Dumper=Dumper, default_flow_style=False))"
   ]
  },
  {
   "cell_type": "markdown",
   "id": "d4bc5b3a",
   "metadata": {},
   "source": [
    "# Selected Publications"
   ]
  },
  {
   "cell_type": "code",
   "execution_count": 16,
   "id": "0f912037",
   "metadata": {},
   "outputs": [],
   "source": [
    "with open('../src/lib/data/selected_publications.json', 'r') as f:\n",
    "    data = json.load(f)\n",
    "    \n",
    "for record in data:\n",
    "    base = record[\"title\"]    \n",
    "    base = base.lower()\n",
    "    base = base.split('(')[0]\n",
    "    base = base.split(',')[0]\n",
    "    base = scrub_punc(base)\n",
    "    base = base.replace(' ', '_')\n",
    "    \n",
    "    _dir = os.path.join('../static/yaml/selected_publications')\n",
    "    if not os.path.isdir(_dir):\n",
    "        os.makedirs(_dir)\n",
    "    \n",
    "    with open(os.path.join(_dir, f'{base}.yml'), 'w') as f:\n",
    "        f.write(dump(record, Dumper=Dumper, default_flow_style=False))"
   ]
  },
  {
   "cell_type": "markdown",
   "id": "d39e7ce8",
   "metadata": {},
   "source": [
    "# Workshops"
   ]
  },
  {
   "cell_type": "code",
   "execution_count": 17,
   "id": "0c1ba2a0",
   "metadata": {},
   "outputs": [],
   "source": [
    "with open('../src/lib/data/workshop_syllabus_2021.json', 'r') as f:\n",
    "    data = json.load(f)\n",
    "\n",
    "_dir = os.path.join('../static/yaml/workshops/2021')\n",
    "if not os.path.isdir(_dir):\n",
    "    os.makedirs(_dir)\n",
    "\n",
    "\n",
    "# for record in data:\n",
    "#     base = record[\"title\"]    \n",
    "#     base = base.lower()\n",
    "#     base = base.split('(')[0]\n",
    "#     base = base.split(',')[0]\n",
    "#     base = scrub_punc(base)\n",
    "#     base = base.replace(' ', '_')\n",
    "    \n",
    "    \n",
    "base = 'syllabus'\n",
    "with open(os.path.join(_dir, f'{base}.yml'), 'w') as f:\n",
    "    f.write(dump(data, Dumper=Dumper, default_flow_style=False))"
   ]
  },
  {
   "cell_type": "code",
   "execution_count": null,
   "id": "a6825ff6",
   "metadata": {},
   "outputs": [],
   "source": []
  }
 ],
 "metadata": {
  "kernelspec": {
   "display_name": "Python 3 (ipykernel)",
   "language": "python",
   "name": "python3"
  },
  "language_info": {
   "codemirror_mode": {
    "name": "ipython",
    "version": 3
   },
   "file_extension": ".py",
   "mimetype": "text/x-python",
   "name": "python",
   "nbconvert_exporter": "python",
   "pygments_lexer": "ipython3",
   "version": "3.9.12"
  },
  "toc": {
   "base_numbering": 1,
   "nav_menu": {},
   "number_sections": true,
   "sideBar": true,
   "skip_h1_title": false,
   "title_cell": "Table of Contents",
   "title_sidebar": "Contents",
   "toc_cell": false,
   "toc_position": {
    "height": "calc(100% - 180px)",
    "left": "10px",
    "top": "150px",
    "width": "206.470581px"
   },
   "toc_section_display": true,
   "toc_window_display": true
  }
 },
 "nbformat": 4,
 "nbformat_minor": 5
}
