{
 "cells": [
  {
   "cell_type": "code",
   "execution_count": 36,
   "id": "1cda8691",
   "metadata": {},
   "outputs": [],
   "source": [
    "import os, sys, json, numpy as np, pandas as pd, json\n",
    "import seaborn as sns\n",
    "import xml.etree.ElementTree as ET"
   ]
  },
  {
   "cell_type": "code",
   "execution_count": 37,
   "id": "87065abe",
   "metadata": {},
   "outputs": [],
   "source": [
    "tree = ET.parse('data/selected_publications_mendeley_export.xml')"
   ]
  },
  {
   "cell_type": "code",
   "execution_count": 38,
   "id": "963582f2",
   "metadata": {},
   "outputs": [],
   "source": [
    "root = tree.getroot()"
   ]
  },
  {
   "cell_type": "code",
   "execution_count": 39,
   "id": "2af29b6f",
   "metadata": {
    "code_folding": []
   },
   "outputs": [],
   "source": [
    "results = []\n",
    "for record in root.findall('./records/record'):\n",
    "    \n",
    "    ref_type = record.find('ref-type')\n",
    "    ref = ref_type.get('name')\n",
    "    \n",
    "    authors = record.findall('contributors/*/author')    \n",
    "    authors = [a.text.strip().split(', ')[::-1] for a in authors]\n",
    "    for i, author in enumerate(authors):\n",
    "        first, last = author        \n",
    "        authors[i] = tuple([*first.split(' '), last])\n",
    "        \n",
    "    authors = [{\"name\": a} for a in authors]\n",
    "    \n",
    "    \n",
    "    title = record.find('*/title').text\n",
    "    \n",
    "    year = record.find('*/year')\n",
    "    if year is not None:\n",
    "        year = year.text\n",
    "    \n",
    "    month = record.find('*/pub-dates/date')\n",
    "    if month is not None:\n",
    "        month = month.text\n",
    "        \n",
    "    pages = record.find('pages')\n",
    "    if pages is not None:\n",
    "        pages = pages.text\n",
    "        \n",
    "    abstract = record.find('abstract')\n",
    "    if abstract is not None:\n",
    "        abstract = abstract.text\n",
    "    \n",
    "    publisher = record.find('publisher')\n",
    "    if publisher is not None:\n",
    "        publisher = publisher.text\n",
    "    \n",
    "    periodical = record.find('periodical/full-title')\n",
    "    if periodical is not None:\n",
    "        periodical = periodical.text\n",
    "        \n",
    "        \n",
    "    if publisher == 'Nature Publishing Group':\n",
    "        periodical = periodical.split(year)[0]\n",
    "    \n",
    "    keywords = [\n",
    "        kw.text \n",
    "        for kw in record.findall('keywords/keyword') \n",
    "        if kw is not None\n",
    "    ]\n",
    "    \n",
    "    urls = [\n",
    "        url.text \n",
    "        for url in record.findall('urls/*/url')\n",
    "        if url is not None\n",
    "    ]\n",
    "    urls = [{\"href\": url} for url in urls]\n",
    "    \n",
    "    volume = record.find('volumes')\n",
    "    if volume is not None:\n",
    "        volume = volume.text\n",
    "    \n",
    "    issue = record.find('issue')\n",
    "    if issue is not None:\n",
    "        issue = issue.text\n",
    "    \n",
    "    \n",
    "    data = {\n",
    "        \"title\": title,\n",
    "        \"type\": ref,\n",
    "        \"authors\": authors,\n",
    "        \"year\": year,\n",
    "        \"month\": month,\n",
    "        \"pages\": pages,\n",
    "        \"abstract\": abstract,\n",
    "        \"publisher\": publisher,\n",
    "        \"periodical\": periodical,\n",
    "        \"keywords\": keywords,\n",
    "        \"urls\": urls,\n",
    "        \"volume\": volume,\n",
    "        \"issue\": issue\n",
    "    }\n",
    "    results.append(data)"
   ]
  },
  {
   "cell_type": "code",
   "execution_count": 42,
   "id": "53fa3fa9",
   "metadata": {},
   "outputs": [],
   "source": [
    "author_mapped = {}\n",
    "author_parts = {}\n",
    "for r in results:\n",
    "    authors = r['authors']\n",
    "    for author in authors:\n",
    "        n = author['name']\n",
    "\n",
    "        if n == ('D.', 'S.', 'Magruder'):\n",
    "            mapped = ('Daniel', 'Sumner', 'Magruder')\n",
    "        elif n == ('David', 'van Dijk') or n == ('David', 'Van', 'Dijk'):\n",
    "            mapped = ('David', 'van', 'Dijk')\n",
    "        elif n == ('Ronald', 'Coifman'):\n",
    "            mapped = ('Ronald', 'R.', 'Coifman')\n",
    "        elif n == ('Antonia', 'van', 'den', 'Elzen'):\n",
    "            mapped = ('Antonia', 'van den', 'Elzen')\n",
    "        elif n == ('Scott', 'Gigante'):\n",
    "            mapped = ('Scott', 'A.', 'Gigante')\n",
    "        elif n == ('Kincaid', 'Macdonald'):\n",
    "            mapped = ('Kincaid', 'MacDonald')\n",
    "        elif n == ('Jay', 'S', 'Stanley'):\n",
    "            mapped = ('Jay', 'S.', 'Stanley')\n",
    "        elif n == ('Alexander', 'Tong') or n == ('Alexander', 'Y', 'Tong'):\n",
    "            mapped = ('Alexander', 'Y.', 'Tong')\n",
    "        elif n == ('F.', 'Perry', 'Wilson'):\n",
    "            mapped = ('Francis', 'Perry', 'Wilson')\n",
    "            \n",
    "        elif n == ('Michal', 'Gerasimiuk'):\n",
    "            mapped = ('Michał', 'Gerasimiuk')\n",
    "            \n",
    "        else:\n",
    "            mapped = n\n",
    "            \n",
    "        author_mapped[n] = mapped\n",
    "            \n",
    "            \n",
    "        parts = {}                        \n",
    "        for i, e in enumerate(mapped):\n",
    "            if i == 0:\n",
    "                parts['first'] =  e\n",
    "                \n",
    "            if i == 1 and len(n) == 2:\n",
    "                parts['last'] =  e\n",
    "                parts['middle'] =  None\n",
    "                \n",
    "            if i == 1 and len(n) == 3:\n",
    "                parts['middle'] = e\n",
    "                \n",
    "            if i == 2 and len(n) == 3:\n",
    "                parts['last'] =  e\n",
    "        \n",
    "        author_parts[mapped] = parts    \n",
    "        \n",
    "for r in results:\n",
    "    authors = r['authors']\n",
    "    for author in authors:\n",
    "        n = author['name']\n",
    "    authors = [\n",
    "        {'name': author_mapped[author['name']]}\n",
    "        for author in authors\n",
    "    ]\n",
    "    r['authors'] = authors"
   ]
  },
  {
   "cell_type": "code",
   "execution_count": 43,
   "id": "5d51edf8",
   "metadata": {},
   "outputs": [],
   "source": [
    "for r in results:\n",
    "    r['selected'] = True    "
   ]
  },
  {
   "cell_type": "code",
   "execution_count": 130,
   "id": "65110b2d",
   "metadata": {},
   "outputs": [],
   "source": [
    "# with open('data/selected_publications.json', 'w') as f:\n",
    "#     json.dump(results, f)"
   ]
  },
  {
   "cell_type": "markdown",
   "id": "17b53e7e",
   "metadata": {},
   "source": [
    "## Map publications to members"
   ]
  },
  {
   "cell_type": "code",
   "execution_count": 138,
   "id": "1f1db2ee",
   "metadata": {},
   "outputs": [],
   "source": [
    "with open('data/members_raw_24_02_2023.json', 'r') as f:\n",
    "    member_data_raw = json.load(f)"
   ]
  },
  {
   "cell_type": "code",
   "execution_count": 139,
   "id": "dcbf9231",
   "metadata": {},
   "outputs": [],
   "source": [
    "member_data = member_data_raw.copy()"
   ]
  },
  {
   "cell_type": "code",
   "execution_count": 140,
   "id": "5b122528",
   "metadata": {},
   "outputs": [
    {
     "name": "stdout",
     "output_type": "stream",
     "text": [
      "Edward De Brouwer\n",
      "{'preferred': 'Edward', 'first': 'Edward', 'last': 'De', 'middle': None}\n",
      "Xingzhi Sun\n",
      "{'preferred': 'Xingzhi', 'first': 'Xingzhi', 'last': 'Sun', 'middle': None}\n",
      "Holly Steach\n",
      "{'preferred': 'Holly', 'first': 'Holly', 'last': 'Steach', 'middle': None}\n",
      "Chen Liu\n",
      "{'preferred': 'Chen', 'first': 'Chen', 'last': 'Liu', 'middle': None}\n",
      "Danqi Liao\n",
      "{'preferred': 'Danqi', 'first': 'Danqi', 'last': 'Liao', 'middle': None}\n",
      "Monica Munnangi\n",
      "{'preferred': 'Monica', 'first': 'Monica', 'last': 'Munnangi', 'middle': None}\n",
      "Sasha Safonova\n",
      "{'preferred': 'Sasha', 'first': 'Sasha', 'last': 'Safonova', 'middle': None}\n",
      "Andrew Benz\n",
      "{'preferred': 'Andrew', 'first': 'Andrew', 'last': 'Benz', 'middle': None}\n",
      "Katherine Du\n",
      "{'preferred': 'Katherine', 'first': 'Katherine', 'last': 'Du', 'middle': None}\n",
      "Tom Wallenstein\n",
      "{'preferred': 'Tom', 'first': 'Tom', 'last': 'Wallenstein', 'middle': None}\n",
      "Ngan Vu\n",
      "{'preferred': 'Ngan', 'first': 'Ngan', 'last': 'Vu', 'middle': None}\n",
      "Alexander Strzalkowski\n",
      "{'preferred': 'Alexander', 'first': 'Alexander', 'last': 'Strzalkowski', 'middle': None}\n",
      "Jad Habouch\n",
      "{'preferred': 'Jad', 'first': 'Jad', 'last': 'Habouch', 'middle': None}\n",
      "Will Chen\n",
      "{'preferred': 'Will', 'first': 'Will', 'last': 'Chen', 'middle': None}\n",
      "Alex Gonopolskiy\n",
      "{'preferred': 'Alex', 'first': 'Alex', 'last': 'Gonopolskiy', 'middle': None}\n",
      "Feng Gao\n",
      "{'preferred': 'Feng', 'first': 'Feng', 'last': 'Gao', 'middle': None}\n"
     ]
    }
   ],
   "source": [
    "for member in member_data:\n",
    "    name = member['name']\n",
    "\n",
    "    preferred_name = name.split(' ')[0]\n",
    "    if name == 'Dami Fasina':\n",
    "        name = 'Oluwadamilola Fasina'\n",
    "        preferred_name = 'Dami'\n",
    "        \n",
    "    elif name == 'Matt Amodio':\n",
    "        name = 'Matthew Amodio'\n",
    "        preferred_name = 'Matt'\n",
    "            \n",
    "        \n",
    "    anames = list(author_parts.keys())\n",
    "    found = False\n",
    "    for aname in anames:\n",
    "        if aname[0] in name and aname[-1] in name:\n",
    "            found = True            \n",
    "            break\n",
    "            \n",
    "    if found == False:\n",
    "        print(name)\n",
    "        parts = {}     \n",
    "        parts['preferred'] = preferred_name\n",
    "        for i, e in enumerate(name.split(' ')):\n",
    "            if i == 0:\n",
    "                parts['first'] =  e\n",
    "                \n",
    "            if i == 1 and len(name.split(' ')) == 2:\n",
    "                parts['last'] =  e\n",
    "                parts['middle'] =  None\n",
    "                \n",
    "            if i == 1 and len(name.split(' ')) == 3:\n",
    "                parts['middle'] = e\n",
    "                \n",
    "            if i == 2 and len(name.split(' ')) == 3:\n",
    "                parts['last'] =  e\n",
    "        print(parts)\n",
    "                \n",
    "            \n",
    "        \n",
    "        \n",
    "        \n",
    "        member['name'] = parts\n",
    "        member['publications'] = []\n",
    "    else:\n",
    "        pubs = []\n",
    "        for result in results:\n",
    "            for author in result['authors']:\n",
    "                if author_mapped[author['name']] == aname:\n",
    "                    pubs.append(result['title'])\n",
    "        \n",
    "        member['publications'] = pubs\n",
    "        member['name'] = author_parts[aname]\n",
    "        member['name']['preferred'] = preferred_name\n",
    "    "
   ]
  },
  {
   "cell_type": "code",
   "execution_count": 135,
   "id": "b40b5f07",
   "metadata": {},
   "outputs": [],
   "source": [
    "title_to_index = {}\n",
    "for i, result in enumerate(results):\n",
    "    title_to_index[result['title']] = i\n",
    "    \n",
    "member_to_index = {}\n",
    "for i, member in enumerate(member_data):\n",
    "    s = ''\n",
    "    parts = member['name']\n",
    "    \n",
    "    s += parts['preferred']\n",
    "    if parts['middle'] is not None:\n",
    "        s += ' '\n",
    "        s += parts['middle']\n",
    "    s += ' '\n",
    "    s += parts['last']\n",
    "    \n",
    "    member['name_str'] = s\n",
    "    member_to_index[s] = i"
   ]
  },
  {
   "cell_type": "code",
   "execution_count": 136,
   "id": "dc88aa32",
   "metadata": {},
   "outputs": [],
   "source": [
    "with open('data/members.json', 'w') as f:\n",
    "    json.dump(member_data, f)"
   ]
  },
  {
   "cell_type": "markdown",
   "id": "241adf8d",
   "metadata": {},
   "source": [
    "## Make Selected Pubs graph"
   ]
  },
  {
   "cell_type": "code",
   "execution_count": 105,
   "id": "1a34154f",
   "metadata": {},
   "outputs": [],
   "source": [
    "graph_data = []\n",
    "for i, member in enumerate(member_data_raw):\n",
    "    \n",
    "    for j, other in enumerate(member_data_raw):\n",
    "        if i == j:\n",
    "            continue\n",
    "        \n",
    "        ipubs = member['publications']\n",
    "        for _, ipub in enumerate(ipubs):    \n",
    "            \n",
    "            jpubs = other['publications']\n",
    "            if ipub in jpubs:                           \n",
    "                graph_data.append({\n",
    "                    'author_a': member['name_str'],\n",
    "                    'author_a_index': i,\n",
    "                    'author_b': other['name_str'],\n",
    "                    'author_b_index': j,\n",
    "                    'publication_title': ipub,\n",
    "                    'publication_index': title_to_index[ipub]\n",
    "                })"
   ]
  },
  {
   "cell_type": "code",
   "execution_count": 114,
   "id": "f99a79eb",
   "metadata": {},
   "outputs": [],
   "source": [
    "graph_nodes = []\n",
    "for member in member_data_raw:\n",
    "    graph_nodes.append({\n",
    "        'author_name': member['name_str'],\n",
    "        'author_name_parts': member['name'],        \n",
    "    })    "
   ]
  },
  {
   "cell_type": "code",
   "execution_count": 115,
   "id": "e771068a",
   "metadata": {},
   "outputs": [],
   "source": [
    "# with open('data/selected_publications_graph.json', 'w') as f:\n",
    "#     json.dump({'nodes': graph_nodes, 'links': graph_data}, f)"
   ]
  },
  {
   "cell_type": "code",
   "execution_count": 106,
   "id": "fab3fe8a",
   "metadata": {},
   "outputs": [],
   "source": [
    "df_agg = pd.DataFrame(graph_data)"
   ]
  },
  {
   "cell_type": "code",
   "execution_count": 108,
   "id": "7eb0b6df",
   "metadata": {},
   "outputs": [],
   "source": [
    "adj_mat = np.zeros((len(member_data_raw), len(member_data_raw)))\n",
    "for _, record in df_agg.iterrows():\n",
    "    i = record.author_a_index\n",
    "    j = record.author_b_index\n",
    "    adj_mat[i, j] = record.publication_index"
   ]
  },
  {
   "cell_type": "code",
   "execution_count": 109,
   "id": "daf0d7c0",
   "metadata": {},
   "outputs": [
    {
     "data": {
      "text/plain": [
       "<AxesSubplot:>"
      ]
     },
     "execution_count": 109,
     "metadata": {},
     "output_type": "execute_result"
    },
    {
     "data": {
      "image/png": "[encoded data removed]",
      "text/plain": [
       "<Figure size 432x288 with 2 Axes>"
      ]
     },
     "metadata": {
      "needs_background": "light"
     },
     "output_type": "display_data"
    }
   ],
   "source": [
    "sns.heatmap(adj_mat)"
   ]
  }
 ],
 "metadata": {
  "kernelspec": {
   "display_name": "Python 3 (ipykernel)",
   "language": "python",
   "name": "python3"
  },
  "language_info": {
   "codemirror_mode": {
    "name": "ipython",
    "version": 3
   },
   "file_extension": ".py",
   "mimetype": "text/x-python",
   "name": "python",
   "nbconvert_exporter": "python",
   "pygments_lexer": "ipython3",
   "version": "3.9.15"
  },
  "toc": {
   "base_numbering": 1,
   "nav_menu": {},
   "number_sections": true,
   "sideBar": true,
   "skip_h1_title": false,
   "title_cell": "Table of Contents",
   "title_sidebar": "Contents",
   "toc_cell": false,
   "toc_position": {
    "height": "calc(100% - 180px)",
    "left": "10px",
    "top": "150px",
    "width": "206.470581px"
   },
   "toc_section_display": true,
   "toc_window_display": true
  }
 },
 "nbformat": 4,
 "nbformat_minor": 5
}
