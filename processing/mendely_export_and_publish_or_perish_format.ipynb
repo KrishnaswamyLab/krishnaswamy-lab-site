{
 "cells": [
  {
   "cell_type": "code",
   "execution_count": 57,
   "id": "1cda8691",
   "metadata": {},
   "outputs": [],
   "source": [
    "import os, sys, json, numpy as np, pandas as pd, json\n",
    "import xml.etree.ElementTree as ET"
   ]
  },
  {
   "cell_type": "code",
   "execution_count": 4,
   "id": "87065abe",
   "metadata": {},
   "outputs": [],
   "source": [
    "tree = ET.parse('export.xml')"
   ]
  },
  {
   "cell_type": "code",
   "execution_count": 5,
   "id": "963582f2",
   "metadata": {},
   "outputs": [],
   "source": [
    "root = tree.getroot()"
   ]
  },
  {
   "cell_type": "code",
   "execution_count": 55,
   "id": "2af29b6f",
   "metadata": {
    "code_folding": [
     1
    ]
   },
   "outputs": [],
   "source": [
    "results = []\n",
    "for record in root.findall('./records/record'):\n",
    "    \n",
    "    ref_type = record.find('ref-type')\n",
    "    ref = ref_type.get('name')\n",
    "    \n",
    "    authors = record.findall('contributors/*/author')    \n",
    "    authors = [a.text.strip().split(', ')[::-1] for a in authors]\n",
    "    for i, author in enumerate(authors):\n",
    "        first, last = author        \n",
    "        authors[i] = [*first.split(' '), last]\n",
    "        \n",
    "    authors = [{\"name\": a} for a in authors]\n",
    "    \n",
    "    \n",
    "    title = record.find('*/title').text\n",
    "    \n",
    "    year = record.find('*/year')\n",
    "    if year is not None:\n",
    "        year = year.text\n",
    "    \n",
    "    month = record.find('*/pub-dates/date')\n",
    "    if month is not None:\n",
    "        month = month.text\n",
    "        \n",
    "    pages = record.find('pages')\n",
    "    if pages is not None:\n",
    "        pages = pages.text\n",
    "        \n",
    "    abstract = record.find('abstract')\n",
    "    if abstract is not None:\n",
    "        abstract = abstract.text\n",
    "    \n",
    "    publisher = record.find('publisher')\n",
    "    if publisher is not None:\n",
    "        publisher = publisher.text\n",
    "    \n",
    "    periodical = record.find('periodical/full-title')\n",
    "    if periodical is not None:\n",
    "        periodical = periodical.text\n",
    "    \n",
    "    keywords = [\n",
    "        kw.text \n",
    "        for kw in record.findall('keywords/keyword') \n",
    "        if kw is not None\n",
    "    ]\n",
    "    \n",
    "    urls = [\n",
    "        url.text \n",
    "        for url in record.findall('urls/*/url')\n",
    "        if url is not None\n",
    "    ]\n",
    "    urls = [{\"href\": url} for url in urls]\n",
    "    \n",
    "    volume = record.find('volumes')\n",
    "    if volume is not None:\n",
    "        volume = volume.text\n",
    "    \n",
    "    issue = record.find('issue')\n",
    "    if issue is not None:\n",
    "        issue = issue.text\n",
    "    \n",
    "    \n",
    "    data = {\n",
    "        \"title\": title,\n",
    "        \"type\": ref,\n",
    "        \"authors\": authors,\n",
    "        \"year\": year,\n",
    "        \"month\": month,\n",
    "        \"pages\": pages,\n",
    "        \"abstract\": abstract,\n",
    "        \"publisher\": publisher,\n",
    "        \"periodical\": periodical,\n",
    "        \"keywords\": keywords,\n",
    "        \"urls\": urls,\n",
    "        \"volume\": volume,\n",
    "        \"issue\": issue\n",
    "    }\n",
    "    results.append(data)"
   ]
  },
  {
   "cell_type": "code",
   "execution_count": 61,
   "id": "27b57e34",
   "metadata": {},
   "outputs": [],
   "source": [
    "with open('pop_citations.json', 'r') as f:\n",
    "    citations = json.load(f)"
   ]
  },
  {
   "cell_type": "code",
   "execution_count": 74,
   "id": "96c366f7",
   "metadata": {},
   "outputs": [
    {
     "data": {
      "text/plain": [
       "(126, 176)"
      ]
     },
     "execution_count": 74,
     "metadata": {},
     "output_type": "execute_result"
    }
   ],
   "source": [
    "len(results), len(citations)"
   ]
  },
  {
   "cell_type": "code",
   "execution_count": 71,
   "id": "70690c3b",
   "metadata": {},
   "outputs": [],
   "source": [
    "found = []"
   ]
  },
  {
   "cell_type": "code",
   "execution_count": 72,
   "id": "f96396a1",
   "metadata": {},
   "outputs": [],
   "source": [
    "for citation in citations:\n",
    "    citation_title = citation['title']\n",
    "    \n",
    "    for article in results:\n",
    "        article_title = article['title']\n",
    "        \n",
    "        if article_title == citation_title:\n",
    "            found.append(citation)  \n",
    "            article[\"google_scholar_url\"] = citation[\"citation_url\"]\n",
    "            \n",
    "            if article[\"month\"] is None and \"month\" in citation:\n",
    "                article[\"month\"] = citation[\"month\"]\n",
    "                \n",
    "            if article[\"year\"] is None and \"year\" in citation:\n",
    "                article[\"year\"] = citation[\"year\"]\n",
    "                \n",
    "            if article[\"volume\"] is None and \"volume\" in citation:\n",
    "                article[\"volume\"] = citation[\"volume\"]\n",
    "                \n",
    "            if article[\"issue\"] is None and \"issue\" in citation:\n",
    "                article[\"issue\"] = citation[\"issue\"]\n",
    "                \n",
    "            article[\"journal_source\"] = citation[\"source\"]\n",
    "            \n",
    "            article[\"cites\"] = citation[\"cites\"]            "
   ]
  },
  {
   "cell_type": "code",
   "execution_count": 75,
   "id": "266f161f",
   "metadata": {},
   "outputs": [],
   "source": [
    "with open('../src/lib/data/citations.json', 'w') as f:\n",
    "    json.dump(results, f)"
   ]
  },
  {
   "cell_type": "code",
   "execution_count": null,
   "id": "5af60a73",
   "metadata": {},
   "outputs": [],
   "source": []
  }
 ],
 "metadata": {
  "kernelspec": {
   "display_name": "Python 3 (ipykernel)",
   "language": "python",
   "name": "python3"
  },
  "language_info": {
   "codemirror_mode": {
    "name": "ipython",
    "version": 3
   },
   "file_extension": ".py",
   "mimetype": "text/x-python",
   "name": "python",
   "nbconvert_exporter": "python",
   "pygments_lexer": "ipython3",
   "version": "3.9.12"
  },
  "toc": {
   "base_numbering": 1,
   "nav_menu": {},
   "number_sections": true,
   "sideBar": true,
   "skip_h1_title": false,
   "title_cell": "Table of Contents",
   "title_sidebar": "Contents",
   "toc_cell": false,
   "toc_position": {},
   "toc_section_display": true,
   "toc_window_display": true
  }
 },
 "nbformat": 4,
 "nbformat_minor": 5
}
